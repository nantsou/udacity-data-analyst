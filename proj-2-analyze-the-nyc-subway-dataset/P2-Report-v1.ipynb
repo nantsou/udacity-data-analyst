{
 "cells": [
  {
   "cell_type": "markdown",
   "metadata": {},
   "source": [
    "<h1 align=\"center\">P2: Analyzing the NYC Subway Dataset</h1>"
   ]
  },
  {
   "cell_type": "markdown",
   "metadata": {},
   "source": [
    "<h2>Section 0. References</h2>"
   ]
  },
  {
   "cell_type": "markdown",
   "metadata": {},
   "source": [
    "<a href=https://en.wikipedia.org/wiki/Mann%E2%80%93Whitney_U_test>Mann Whitney U test, Wikipedia</a><br>\n",
    "<a href=https://en.wikipedia.org/wiki/Tourism_in_New_York_City>Tourism in New York City, Wikipedia</a><br>\n",
    "<a href=http://blog.minitab.com/blog/adventures-in-statistics/regression-analysis-how-do-i-interpret-r-squared-and-assess-the-goodness-of-fit>The Minitab Blog</a><br>\n",
    "<a href=http://scikit-learn.org/stable/modules/generated/sklearn.linear_model.SGDRegressor.html>Stochastic Gradient Descent: SGDRegressor</a><br>"
   ]
  },
  {
   "cell_type": "markdown",
   "metadata": {},
   "source": [
    "<h3>Preface</h3>\n",
    "In this report, I uesd the second verison of data to do analysis."
   ]
  },
  {
   "cell_type": "code",
   "execution_count": 1,
   "metadata": {
    "collapsed": false
   },
   "outputs": [
    {
     "name": "stdout",
     "output_type": "stream",
     "text": [
      "Populating the interactive namespace from numpy and matplotlib\n"
     ]
    }
   ],
   "source": [
    "#Import required modules\n",
    "import pandas as pd\n",
    "import numpy as np\n",
    "import scipy as sc\n",
    "from scipy import stats as st\n",
    "\n",
    "#keep the plot in the same windows\n",
    "%pylab inline\n",
    "from matplotlib import pyplot as plt\n",
    "from matplotlib import gridspec as gc\n",
    "\n",
    "\n",
    "#read the required data for the following contents.\n",
    "path = r'./dataSet/turnstile_weather_v2.csv'\n",
    "dF = pd.read_csv(path)"
   ]
  },
  {
   "cell_type": "markdown",
   "metadata": {},
   "source": [
    "<h2>Section 1. Statistical Test</h2>"
   ]
  },
  {
   "cell_type": "markdown",
   "metadata": {},
   "source": [
    "<h4>\n",
    "1.1 Which statistical test did you use to analyze the NYC subway data? Did you use a one-tail or a two-tail P value? What is the null hypothesis? What is your p-critical value?\n",
    "</h4>"
   ]
  },
  {
   "cell_type": "markdown",
   "metadata": {},
   "source": [
    "<p>\n",
    "I used <strong>Mann-Whitney U Test</strong> to analyze the NYC subway data. I decided to use <strong>two-tail</strong> P value after I checked the distributions of the data sets (shown in section 3). Although It was obviously that the size of non rainy days was much more than the size of rainy days. , it was hard to know that the rideship was getting more in the rainy days or not.<br>\n",
    "The hypothesis is set as follows:<br>\n",
    "H<sub>0</sub>: The distribution of number of entires is statistically <strong>the same</strong> between rainy days and non rainy days.<br>\n",
    "H<sub>1</sub>: The distribution of number of entires is statistically <strong>different</strong> between rainy days and non rainy days.<br>\n",
    "And the p-critical value is <strong>0.05</strong>.\n",
    "</p>"
   ]
  },
  {
   "cell_type": "markdown",
   "metadata": {},
   "source": [
    "<h4>\n",
    "1.2 Why is this statistical test applicable to the dataset? In particular, consider the assumptions that the test is making about the distribution of ridership in the two samples.\n",
    "</h4>"
   ]
  },
  {
   "cell_type": "markdown",
   "metadata": {},
   "source": [
    "<p>\n",
    "1. It is obvious that histogram plots of both rainy days and non rainy days are not normal distribution.<br>\n",
    "2. The indenpdent variable which consist of two categorical, independent groups, rainy days and non rainy days.<br>\n",
    "3. The samples were ordinal. And they were the observations.<br>\n",
    "4. Both sample sizes of rainy days and non rainy days were unequal.<br>\n",
    "5. the sample size of the non rainy days was much larger than that of the rainy days.  \n",
    "</p>"
   ]
  },
  {
   "cell_type": "markdown",
   "metadata": {},
   "source": [
    "<h4>1.3 What results did you get from this statistical test? These should include the following numerical values: p-values, as well as the means for each of the two samples under test.\n",
    "</h4>"
   ]
  },
  {
   "cell_type": "code",
   "execution_count": 2,
   "metadata": {
    "collapsed": false
   },
   "outputs": [
    {
     "name": "stdout",
     "output_type": "stream",
     "text": [
      "the mean of rainy days' data is  2028.19603547\n",
      "the mean of non rainy days' data is  1845.53943866\n",
      "the Mann Whitney U test is  153635120.5\n",
      "the p-value is  5.48213914249e-06\n"
     ]
    }
   ],
   "source": [
    "def mann_whitney_u_test(dF):\n",
    "  \n",
    "    yRain = dF['ENTRIESn_hourly'][dF['rain'] == 1] # non rain day\n",
    "    nRain = dF['ENTRIESn_hourly'][dF['rain'] == 0] # rainy day\n",
    "\n",
    "    meanYR = np.mean(yRain)\n",
    "    meanNR = np.mean(nRain)\n",
    "\n",
    "\n",
    "    U, p = st.mannwhitneyu(yRain.tolist(), nRain.tolist())\n",
    "    return meanNR, meanYR, U, p\n",
    "\n",
    "meanNR, meanYR, U, p = mann_whitney_u_test(dF)\n",
    "print \"the mean of rainy days' data is \", meanYR\n",
    "print \"the mean of non rainy days' data is \", meanNR\n",
    "print \"the Mann Whitney U test is \", U\n",
    "print \"the p-value is \", p*2\n"
   ]
  },
  {
   "cell_type": "markdown",
   "metadata": {},
   "source": [
    "<h4>\n",
    "1.4 What is the significance and interpretation of these results?\n",
    "</h4>"
   ]
  },
  {
   "cell_type": "markdown",
   "metadata": {},
   "source": [
    "<p>\n",
    "As results shown in 1.3, p-value was 5.48&#215;10<sup>-6</sup> which was much less than critical-p value, 0.05. So that it was statistically significant different in the distribution of number of entries between the rainy days and the non rainy days. Thus the conclusion was to reject null hypothesis. \n",
    "</p>"
   ]
  },
  {
   "cell_type": "markdown",
   "metadata": {},
   "source": [
    "<h2>Section 2. Linear Regression</h2>"
   ]
  },
  {
   "cell_type": "markdown",
   "metadata": {},
   "source": [
    "<h4>\n",
    "2.1 What approach did you use to compute the coefficients theta and produce prediction for ENTRIESn_hourly in your regression model:<br>\n",
    "a. OLS using Statsmodels or Scikit Learn<br>\n",
    "b. Gradient descent using Scikit Learn<br>\n",
    "c. Or something different?<br>\n",
    "</h4>"
   ]
  },
  {
   "cell_type": "markdown",
   "metadata": {},
   "source": [
    "<p>\n",
    "In this section, I performed the results of the linear regression with both a. OLS using Statsmodels and b. Gradient descent using Sckit Learn.<br>\n",
    "The programs I used to do the linear regression were shown as follows.\n",
    "</p>"
   ]
  },
  {
   "cell_type": "code",
   "execution_count": 3,
   "metadata": {
    "collapsed": true
   },
   "outputs": [],
   "source": [
    "def getAnalysisData(dF):\n",
    "    #Features\n",
    "    features = dF[['rain']]\n",
    "    dummy_units = pd.get_dummies(dF['UNIT'], prefix='unit')\n",
    "    dummy_hour = pd.get_dummies(dF['hour'], prefix='hour')\n",
    "    dummy_daywk = pd.get_dummies(dF['day_week'], prefix='day_week')\n",
    "    features = features.join(dummy_units).join(dummy_hour).join(dummy_daywk)\n",
    "    #Values\n",
    "    values = dF['ENTRIESn_hourly']\n",
    "    return features, values"
   ]
  },
  {
   "cell_type": "code",
   "execution_count": 4,
   "metadata": {
    "collapsed": false
   },
   "outputs": [],
   "source": [
    "from sklearn.linear_model import SGDRegressor as sg\n",
    "\n",
    "def normalize_feature_sk(features):\n",
    "    means = np.mean(features, axis=0)\n",
    "    std_devs = np.std(features, axis=0)\n",
    "    normalized_features = (features - means)/std_devs\n",
    "    return means, std_devs, normalized_features\n",
    "\n",
    "def recover_params_sk(means, std_devs, norm_intercept, norm_params):\n",
    "    intercept = norm_intercept - np.sum(means*norm_params/std_devs)\n",
    "    params = norm_params/std_devs\n",
    "    return intercept, params\n",
    "\n",
    "def linear_regression_sk(features, values):\n",
    "    model = sg(eta0=0.001)\n",
    "    model = model.fit(features, values)\n",
    "    intercept = model.intercept_\n",
    "    params = model.coef_\n",
    "    return intercept, params\n",
    "\n",
    "def predictions_sk(dF):\n",
    "    features, values = getAnalysisData(dF)\n",
    "    #Get arrays\n",
    "    features_arr = features.values\n",
    "    values_arr = values.values\n",
    "    means, std_devs, normalized_features_arr = normalize_feature_sk(features_arr)\n",
    "\n",
    "    #Perform linear regression withgradient descent\n",
    "    norm_intercept, norm_params = linear_regression_sk(normalized_features_arr, values_arr)\n",
    "    intercept , params = recover_params_sk(means, std_devs, norm_intercept, norm_params)\n",
    "    print 'Coefficient of non dummy variable by Gradient Descent is ', params[0]\n",
    "    predictions = intercept + np.dot(features_arr, params)\n",
    "\n",
    "    return predictions\n"
   ]
  },
  {
   "cell_type": "code",
   "execution_count": 5,
   "metadata": {
    "collapsed": true
   },
   "outputs": [],
   "source": [
    "import statsmodels.api as sm\n",
    "\n",
    "def linear_regression_sm(features, values):\n",
    "    \"\"\"\n",
    "    Perform linear regression with statsmodels module\n",
    "    \"\"\"\n",
    "    features = sm.add_constant(features)\n",
    "    model = sm.OLS(values, features)\n",
    "    results = model.fit()\n",
    "    intercept = results.params[0]\n",
    "    params = results.params[1:]\n",
    "    print 'Coefficient of non dummy variable by Ordinary least Squares is ', params[0]\n",
    "    return intercept, params\n",
    "\n",
    "def predictions_sm(dF):\n",
    "    features, values = getAnalysisData(dF)\n",
    "    #Perform linear regression\n",
    "    intercept, params = linear_regression_sm(features, values)\n",
    "    predictions = intercept + np.dot(features, params)\n",
    "    return predictions\n"
   ]
  },
  {
   "cell_type": "code",
   "execution_count": 6,
   "metadata": {
    "collapsed": false
   },
   "outputs": [
    {
     "name": "stdout",
     "output_type": "stream",
     "text": [
      "Coefficient of non dummy variable by Gradient Descent is  49.1068774239\n",
      "Coefficient of non dummy variable by Ordinary least Squares is  42.8883988678\n",
      "R squared by Gradient Descent: 0.5434\n",
      "R squared by Ordinary least squares: 0.5440\n"
     ]
    }
   ],
   "source": [
    "def get_rsquared(data, predict):\n",
    "    a = ((data - predict)**2).sum()\n",
    "    b = ((data - np.mean(data))**2).sum()\n",
    "    rsquared = 1 - a/b\n",
    "    return rsquared\n",
    "\n",
    "predict_sk = predictions_sk(dF)\n",
    "predict_sm = predictions_sm(dF)\n",
    "\n",
    "data = dF['ENTRIESn_hourly']\n",
    "\n",
    "print 'R squared by Gradient Descent: ' '{0:.4f}'.format(get_rsquared(data, predict_sk))\n",
    "print 'R squared by Ordinary least squares: ' '{0:.4f}'.format(get_rsquared(data, predict_sm))                                                                   "
   ]
  },
  {
   "cell_type": "markdown",
   "metadata": {},
   "source": [
    "<h4>\n",
    "2.2 What features (input variables) did you use in your model? Did you use any dummy variables as part of your features?\n",
    "</h4>"
   ]
  },
  {
   "cell_type": "markdown",
   "metadata": {},
   "source": [
    "<p>\n",
    "Non dummy variable: 'rain'.<br>\n",
    "Dummy variable: 'UNIT', 'hour' and 'day_week'.\n",
    "</p>"
   ]
  },
  {
   "cell_type": "markdown",
   "metadata": {},
   "source": [
    "<h4>\n",
    "2.3 Why did you select these features in your model? We are looking for specific reasons that lead you to believe that\n",
    "the selected features will contribute to the predictive power of your model.\n",
    "</h4>"
   ]
  },
  {
   "cell_type": "markdown",
   "metadata": {},
   "source": [
    "<p>\n",
    "I used 'rain'only as the input variable because I wanted to focus on the factor of rain. Of course, I had tried  the other features. However, the other feature did influence on the results very slightly. Even if I removed these features, thre result was just changed very slightly. On the other hand, I noticed that 'UNIT' and 'hour' and did influenced on the result dramically when I added them as the dummy variables. Besides, I was thinking that people take the subway to work on the week days, therefore I also add 'day_week' as the dummy variables into the features.\n",
    "</p>"
   ]
  },
  {
   "cell_type": "markdown",
   "metadata": {},
   "source": [
    "<h4>\n",
    "2.4 What are the parameters (also known as \"coefficients\" or \"weights\") of the non-dummy features in your linear regression model?\n",
    "</h4>"
   ]
  },
  {
   "cell_type": "markdown",
   "metadata": {
    "collapsed": true
   },
   "source": [
    "<p>\n",
    "In this Analysis, <strong>only one</strong> non-dummy variable, <strong>'rain'</strong>, was included in the linear regression models. The parameters got by Gradient Descent were changed in each run. But all the coefficient of the non-dummy variable were positive. In this run, the cofficient was about <strong>42.901</strong>. On the other hand, the coefficient got by Ordinary least squares kept constant, that is <strong>42.805</strong>.\n",
    "</p>\n",
    "<p>\n",
    "For further information about the variables, the total number of the variables used in both methods was 254. One should be noticed is that over 80% (exact number was 223) of the variables were the dummy variables based on 'UNIT'.\n",
    "</p>"
   ]
  },
  {
   "cell_type": "markdown",
   "metadata": {},
   "source": [
    "<h4>\n",
    "2.5 What is your model’s R<sup>2</sup> (coefficients of determination) value?\n",
    "</h4>"
   ]
  },
  {
   "cell_type": "markdown",
   "metadata": {
    "collapsed": true
   },
   "source": [
    "<p>\n",
    "As the results shown above,<br>\n",
    "R<sup>2</sup> by Gradient Descent: 0.5435<br>\n",
    "R<sup>2</sup> by Ordinary least squares: 0.5440<br>\n",
    "</p>"
   ]
  },
  {
   "cell_type": "markdown",
   "metadata": {},
   "source": [
    "<h4>\n",
    "2.6 What does this R<sup>2</sup> value mean for the goodness of fit for your regression model? Do you think this linear model to predict ridership is appropriate for this dataset, given this R2  value?\n",
    "</h4>"
   ]
  },
  {
   "cell_type": "markdown",
   "metadata": {},
   "source": [
    "<p>\n",
    "R<sup>2</sup> is the percentage of variance that is explained by the model. Generally speaking, the higher R<sup>2</sup> value is, the better the fit is. R<sup>2</sup> value at about 0.54 was an acceptable value if the data set was quite noisy.  \n",
    "However, histogram of residuals and probility plot of residual are the important to judge the goodness of a fit.  \n",
    "In this case, both histograms of residual showed that errors somehow concentrated on the 0, which could be considered an indicator of goodness of the fit. However, the long tails (+/- 10000), which indicated that there were the cases where accuracy was low.  \n",
    "About the probility plot, both plots showed that the straight line where the residuals are small, but the long tails of the histogram show up as wide divergences from the normal distribution.  \n",
    "</p>"
   ]
  },
  {
   "cell_type": "code",
   "execution_count": 7,
   "metadata": {
    "collapsed": false
   },
   "outputs": [
    {
     "data": {
      "image/png": "[encoded data removed]",
      "text/plain": [
       "<matplotlib.figure.Figure at 0x10fd0e1d0>"
      ]
     },
     "metadata": {},
     "output_type": "display_data"
    }
   ],
   "source": [
    "def poltResidual(ax, data, prediction):\n",
    "    bins = np.linspace(-10000,10000,50)\n",
    "    ax.hist(data - prediction, bins=bins)\n",
    "    ax.axis([-10000, 10000, 0, 8000])\n",
    "    ax.set_xlabel('Residuals [-]')\n",
    "    ax.set_ylabel('Frequency [-]')\n",
    "\n",
    "fig = plt.figure(num=None, figsize=(20, 5), dpi = 80)\n",
    "gs = gc.GridSpec(1,2)\n",
    "gs.update(hspace = 0, bottom = 0.15)\n",
    "ax1 = fig.add_subplot(gs[0])\n",
    "poltResidual(ax1, data, predict_sk)\n",
    "ax1.set_title('Gradinet Descent')\n",
    "ax2 = fig.add_subplot(gs[1])\n",
    "poltResidual(ax2, data, predict_sm)\n",
    "ax2.set_title('Ordinary Least Squares')\n",
    "fig.text(0.5, 0.01, \"Histogram of Residuals\", ha = \"center\", fontsize=20)\n",
    "plt.show()"
   ]
  },
  {
   "cell_type": "code",
   "execution_count": 8,
   "metadata": {
    "collapsed": false
   },
   "outputs": [
    {
     "data": {
      "image/png": "[encoded data removed]",
      "text/plain": [
       "<matplotlib.figure.Figure at 0x11030bb90>"
      ]
     },
     "metadata": {},
     "output_type": "display_data"
    }
   ],
   "source": [
    "def poltProResidual(ax, data, prediction):\n",
    "    st.probplot(data - prediction, plot=ax)\n",
    "    ax.set_xlabel(\"Normal Distribution Quantiles\")\n",
    "    ax.set_ylabel(\"Residuals [-]\")\n",
    "    \n",
    "fig = plt.figure(num=None, figsize=(20, 5), dpi = 80)\n",
    "gs = gc.GridSpec(1,2)\n",
    "gs.update(hspace = 0, bottom = 0.15)\n",
    "ax1 = fig.add_subplot(gs[0])\n",
    "poltProResidual(ax1, data, predict_sk)\n",
    "ax1.set_title('Gradinet Descent')\n",
    "ax2 = fig.add_subplot(gs[1])\n",
    "poltProResidual(ax2, data, predict_sm)\n",
    "ax2.set_title('Ordinary Least Squares')\n",
    "fig.text(0.5, 0.01, \"Probility Plot of Residual Versus Normal Distribution\", ha = \"center\", fontsize=20)\n",
    "plt.show()"
   ]
  },
  {
   "cell_type": "markdown",
   "metadata": {},
   "source": [
    "<h2>Section 3. Visualization</h2>"
   ]
  },
  {
   "cell_type": "markdown",
   "metadata": {},
   "source": [
    "<h4>\n",
    "1. Histogram of ENTRIESn_hourly verse rany days and non rainy days.\n",
    "</h4>"
   ]
  },
  {
   "cell_type": "code",
   "execution_count": null,
   "metadata": {
    "collapsed": false
   },
   "outputs": [],
   "source": [
    "def plotHistRain(dF):\n",
    "    plt.figure()\n",
    "    nRain = dF['ENTRIESn_hourly'][dF['rain'] == 0].values #not raining\n",
    "    yRain = dF['ENTRIESn_hourly'][dF['rain'] == 1].values #raining\n",
    "\n",
    "    plt.hist(nRain, bins=100, color='g', label='non rainy days')\n",
    "    plt.hist(yRain, bins=100, color='b', label='rainy days')\n",
    "    plt.legend(loc='upper right')\n",
    "    plt.axis([0, 8000, 0, 10000])\n",
    "    plt.title('Histogram of ENTRIESn_hourly')\n",
    "    plt.xlabel('ENTRIESn_hourly [-]')\n",
    "    plt.ylabel('Frequency [-]')\n",
    "    plt.show()\n",
    "\n",
    "plotHistRain(dF)"
   ]
  },
  {
   "cell_type": "markdown",
   "metadata": {
    "collapsed": true
   },
   "source": [
    "<p>\n",
    "From this histogram, it was obviously that the sample size of non rainy days was much larger than that of rainy days. Besides, both distributions were not normal distribution. Thus, as what I mentioned in section 1, that Mann-Whitney U test was applicable to this statistic test.\n",
    "</p>"
   ]
  },
  {
   "cell_type": "markdown",
   "metadata": {},
   "source": [
    "<h4>\n",
    "2. BarChat of average entries verse week days and hours.\n",
    "</h4>"
   ]
  },
  {
   "cell_type": "code",
   "execution_count": 62,
   "metadata": {
    "collapsed": false
   },
   "outputs": [
    {
     "data": {
      "image/png": "[encoded data removed]",
      "text/plain": [
       "<matplotlib.figure.Figure at 0x10d41f810>"
      ]
     },
     "metadata": {},
     "output_type": "display_data"
    }
   ],
   "source": [
    "\n",
    "def plotBarDayWeek(dF, ax):\n",
    "    entries_rainy = []\n",
    "    entries_nonrainy = []\n",
    "    days = np.arange(7)\n",
    "    for day in days:\n",
    "        rainy_day = np.mean(dF['ENTRIESn_hourly'][dF['day_week'] == day][dF['rain'] == 1])\n",
    "        nonrainy_day = np.mean(dF['ENTRIESn_hourly'][dF['day_week'] == day][dF['rain'] == 0])\n",
    "        entries_rainy.append(rainy_day)\n",
    "        entries_nonrainy.append(nonrainy_day)\n",
    "        \n",
    "    daysLabel = ['Sun.', 'Mon.', 'Tue.', 'Wed.', 'Thur.', 'Fri.', 'Sat.']\n",
    "    ax.bar(days - 0.15, entries_rainy, color='b', align='center', label='rainy days', width = 0.3)\n",
    "    ax.bar(days + 0.15, entries_nonrainy, color='g', align='center', label='non rainy days', width = 0.3)\n",
    "    ax.set_title('Daily Entries')\n",
    "    ax.legend(loc='upper right')\n",
    "    ax.set_xticks(days)\n",
    "    ax.set_xticklabels(daysLabel)\n",
    "    ax.set_xlabel('Day [day]')\n",
    "    ax.set_ylabel('Average Entries per Day [-]')\n",
    "\n",
    "def plotBarHourly(dF, ax):\n",
    "    entries = []\n",
    "    hours = range(0, 24, 4)\n",
    "    for hour in hours:\n",
    "        entry_hourly = np.mean(dF['ENTRIESn_hourly'][dF['hour'] == hour])\n",
    "        entries.append(entry_hourly)\n",
    "    ax.bar(hours, entries, align='center', width=3)\n",
    "    ax.set_title('Hourly Entries')\n",
    "    ax.set_xlabel('Hour [hour]')\n",
    "    ax.set_xticks(hours)\n",
    "    ax.set_ylabel('Average Entries per Hour [-]')\n",
    "    \n",
    "fig = plt.figure(num=None, figsize=(20, 5), dpi = 80)\n",
    "gs = gc.GridSpec(1,2)\n",
    "gs.update(hspace = 0, bottom = 0.15)\n",
    "ax1 = fig.add_subplot(gs[0])\n",
    "plotBarDayWeek(dF, ax1)\n",
    "ax2 = fig.add_subplot(gs[1])\n",
    "plotBarHourly(dF, ax2)\n",
    "fig.text(0.5, 0.01, \"Bar chart of Entries\", ha = \"center\", fontsize=20)\n",
    "plt.show()"
   ]
  },
  {
   "cell_type": "markdown",
   "metadata": {
    "collapsed": true
   },
   "source": [
    "<p>\n",
    "Actually, I got really low R<sup>2</sup> when I used 'rain' as feature only to do the linear regression. It was about 0.0006. Of course, 'UNIT' did affect the results very much. However, I found out that hours and days as the features did affect the results of linear regression. Fisrt, I wanted to take a look at the distribution of entries in different days. According to the figure above, it was obvious that people take the subway from Sunday to Thursday more. It might be the reason that the R<sup>2</sup> was getting higher when I added days as the feature. But there was one thing attracted my attention, that was there actually was not big different in rideship between rainy days and non rainy days. It might indicated that people in New York don't care about it is rainy or not when they are going to take tain. I understand it is very dangerous to jump to the conclusion by this bar chat, because the sample sizes were quite different and this chart only could tell the different in entries among the days. Second, I take a look at the distribution of entries per average hour a day. It is obviously that people take the subway during 12:00 to 20:00.  The file provided entries data at 0, 4, 8, 12, 16 and 20 o'clock. So it made sense that it is rush time that people go to work from 9 to 12 o'clock and then go home from 17 to 20 o'clock. Besides, it is about 56 million foreign and American tourists in New York city. I think it is reasonable to assume that tourists take the subway during daytime. In my opinion, it strongly affeted the results of linear regression.\n",
    "</p>"
   ]
  },
  {
   "cell_type": "markdown",
   "metadata": {},
   "source": [
    "<h2>Section 4. Conclusion</h2>"
   ]
  },
  {
   "cell_type": "markdown",
   "metadata": {},
   "source": [
    "<h4>\n",
    "4.1 From your analysis and interpretation of the data, do more people ride the NYC subway when it is raining or when it is not raining?  \n",
    "</h4>"
   ]
  },
  {
   "cell_type": "markdown",
   "metadata": {
    "collapsed": true
   },
   "source": [
    "<p>\n",
    "According to the result of the analysis, more people ride the NYC subway when it is raining.\n",
    "</p>"
   ]
  },
  {
   "cell_type": "markdown",
   "metadata": {},
   "source": [
    "<h4>\n",
    "4.2 What analyses lead you to this conclusion? You should use results from both your statistical\n",
    "tests and your linear regression to support your analysis.\n",
    "</h4>"
   ]
  },
  {
   "cell_type": "markdown",
   "metadata": {
    "collapsed": true
   },
   "source": [
    "The result of Mann-Whitney U Test told that the increase in ridership on rainy days was statistically significant with 95% confidence, because statistic U was positive and the calculated p-value, 5.48&#215;10<sup>-6</sup>, was much less then critical p-value, 0.05. Besides, the positive coefficient for the 'rain' parameter calculated by both methods  indicated that people ride the NYC subway more when it is raining. According to the analysis of R<sup>2</sup> showed that not all the cases agree this conclusion, the small residuals show relatively high accuracy and R<sup>2</sup> which was 0.54 was an accpetable value for a noisy data, given our objectives."
   ]
  },
  {
   "cell_type": "markdown",
   "metadata": {},
   "source": [
    "<h2>Section 5. Reflection</h2>"
   ]
  },
  {
   "cell_type": "markdown",
   "metadata": {},
   "source": [
    "<h4>\n",
    "5.1 Please discuss potential shortcomings of the methods of your analysis, including:<br>\n",
    "Dataset,<br>\n",
    "Analysis, such as the linear regression model or statistical test.\n",
    "</h4>"
   ]
  },
  {
   "cell_type": "markdown",
   "metadata": {
    "collapsed": true
   },
   "source": [
    "<p>\n",
    "First of all, the number of the data set was not enough or even quite small. This dataset only provided the data in May 2011. The results might indicate the particular case in 2011. And it is reasonable that the temperature and the precipitation are quite different in different seasons. Thus, they may become very important feature to affect the ridership of the NYC subway, especially they are highly relative to that it is raining or not. Thus, it was hard of the results to represent general case. \n",
    "</p>\n",
    "<p>\n",
    "Second, over 56 million foreign and American tourists including day trippers each year in New City. So, what proportion of the riders were tourists, day trippers and recreational riders. This information is quite important. It is very convenient of the tourists to take the subway no matter it is raining or not. For the day trippers and recreational rider, they may stay indoor when it is raining. Besides, it is also reasonable to consider the factors that what proportion of the riders have alternative methods to transport. Are these methods to transport available in a rainy day? In my opinion, these kinds of the information are really helpful to provide a more reliable results to do the predictions.  \n",
    "</p>\n",
    "<p>\n",
    "Last, the histogram of residual and the probility plot of residuals versus normal distribution suggested that the models procedured extremely inaccurent results in some cases, especially in large value of the residuals. Actually, I have tuned eta0, the initial learning rate, of Gradient Descent method to procedure the results better. However, the results of both methods were similar. It might be the limitation in linear model. Besides, Threre were very large number of the dummy variable when 'UNIT' was selected as the feature. It was really helpful to imporve the results. Honestly, I am still confused why this feature was selected in the course of Intro to Data Science. Is it just because it could improve the results very well? On the other hand, the results changed very slightly with combinations of weather data. It did make me confused to select the appropriate features to do the analysis.   \n",
    "</p>"
   ]
  }
 ],
 "metadata": {
  "kernelspec": {
   "display_name": "Python 2",
   "language": "python",
   "name": "python2"
  },
  "language_info": {
   "codemirror_mode": {
    "name": "ipython",
    "version": 2
   },
   "file_extension": ".py",
   "mimetype": "text/x-python",
   "name": "python",
   "nbconvert_exporter": "python",
   "pygments_lexer": "ipython2",
   "version": "2.7.11"
  }
 },
 "nbformat": 4,
 "nbformat_minor": 0
}
